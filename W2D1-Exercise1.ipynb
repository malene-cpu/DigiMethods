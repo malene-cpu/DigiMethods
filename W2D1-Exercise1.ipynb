{
 "cells": [
  {
   "cell_type": "markdown",
   "metadata": {},
   "source": [
    "# Exercise 1: Basic Python 1\n",
    "Modified from exercises provided with Programming with Python for Social Science by Phillip Brooker and from Social Data Science 2019 by Andreas Bjerre-Nielson\n",
    "\n",
    "## 1.1 DATA TYPES\n",
    "**QUESTION 1.1.1**"
   ]
  },
  {
   "cell_type": "code",
   "execution_count": null,
   "metadata": {},
   "outputs": [],
   "source": [
    "#an integer is a \"whole number\" (i.e. one with no decimal point)\n",
    "my_integer = 14\n",
    "\n",
    "#a float is a numerical value with a decimal point\n",
    "my_float = 11.1\n",
    "\n",
    "#a string is text\n",
    "my_string = \"This is my string.\"\n"
   ]
  },
  {
   "cell_type": "markdown",
   "metadata": {},
   "source": [
    "What type of variables do you think the following five are? "
   ]
  },
  {
   "cell_type": "code",
   "execution_count": 3,
   "metadata": {},
   "outputs": [
    {
     "data": {
      "text/plain": [
       "False"
      ]
     },
     "execution_count": 3,
     "metadata": {},
     "output_type": "execute_result"
    }
   ],
   "source": [
    "var1 = \"0.1\"\n",
    "\n",
    "var2 = 5 - 9\n",
    "\n",
    "var3 = 10 + 10.1\n",
    "\n",
    "var4 = \"10 + 10.1\"\n",
    "\n",
    "var5 = 10.1 - 0.1\n"
   ]
  },
  {
   "cell_type": "code",
   "execution_count": null,
   "metadata": {},
   "outputs": [],
   "source": [
    "#Answer to Question 1.1.1\n",
    "var1 = string\n",
    "var2 = int\n",
    "var3 = float\n",
    "var4 = string\n",
    "var5 = float"
   ]
  },
  {
   "cell_type": "code",
   "execution_count": 18,
   "metadata": {},
   "outputs": [
    {
     "data": {
      "text/plain": [
       "True"
      ]
     },
     "execution_count": 18,
     "metadata": {},
     "output_type": "execute_result"
    }
   ],
   "source": [
    "isinstance(var2, int)"
   ]
  },
  {
   "cell_type": "code",
   "execution_count": 19,
   "metadata": {},
   "outputs": [
    {
     "data": {
      "text/plain": [
       "str"
      ]
     },
     "execution_count": 19,
     "metadata": {},
     "output_type": "execute_result"
    }
   ],
   "source": [
    "type(var1)"
   ]
  },
  {
   "cell_type": "markdown",
   "metadata": {},
   "source": [
    "## 1.2 Basic Operations"
   ]
  },
  {
   "cell_type": "markdown",
   "metadata": {},
   "source": [
    "**Question 1.2.1**: Variables can be reassigned and overwritten."
   ]
  },
  {
   "cell_type": "code",
   "execution_count": 12,
   "metadata": {},
   "outputs": [],
   "source": [
    "original_var = 20\n",
    "new_var = original_var + 10\n",
    "\n",
    "original_var2 = 5\n",
    "original_var2 = original_var2 + 5\n"
   ]
  },
  {
   "cell_type": "markdown",
   "metadata": {},
   "source": [
    "Can you guess the values for new_var and original_var2?\n"
   ]
  },
  {
   "cell_type": "code",
   "execution_count": 6,
   "metadata": {},
   "outputs": [
    {
     "data": {
      "text/plain": [
       "30"
      ]
     },
     "execution_count": 6,
     "metadata": {},
     "output_type": "execute_result"
    }
   ],
   "source": [
    "#Answer to Question 1.2.1\n",
    "#new_var + original_var = 30\n",
    "original_var + 10\n"
   ]
  },
  {
   "cell_type": "code",
   "execution_count": 8,
   "metadata": {},
   "outputs": [
    {
     "data": {
      "text/plain": [
       "15"
      ]
     },
     "execution_count": 8,
     "metadata": {},
     "output_type": "execute_result"
    }
   ],
   "source": [
    "#original_var2 + original_var2 = 10\n",
    "original_var2 + 5\n",
    "#vi troede det blev 10, men fordi at original_var2 allerede var blevet til 10 oppe i celle 12, bliver resultet nu 15, da vi ligger 5 til.\n"
   ]
  },
  {
   "cell_type": "markdown",
   "metadata": {},
   "source": [
    "**Question 1.2.2**: Can you guess what string1 will contain?"
   ]
  },
  {
   "cell_type": "code",
   "execution_count": 21,
   "metadata": {},
   "outputs": [
    {
     "name": "stdout",
     "output_type": "stream",
     "text": [
      "This is the first part of the string. This is the second part of the string.\n"
     ]
    }
   ],
   "source": [
    "string1 = \"This is the first part of the string.\"\n",
    "string1 = string1 + \" This is the second part of the string.\"\n",
    "print (string1)"
   ]
  },
  {
   "cell_type": "code",
   "execution_count": 20,
   "metadata": {},
   "outputs": [],
   "source": [
    "#Answer to Question 1.2.2\n",
    "\"This is the first part of the string.\" \" This is the second part of the string.\""
   ]
  },
  {
   "cell_type": "code",
   "execution_count": null,
   "metadata": {},
   "outputs": [],
   "source": []
  },
  {
   "cell_type": "markdown",
   "metadata": {},
   "source": [
    "**Question 1.2.3**: Try adding these two variables together, and explain what happens."
   ]
  },
  {
   "cell_type": "code",
   "execution_count": 24,
   "metadata": {},
   "outputs": [
    {
     "ename": "TypeError",
     "evalue": "unsupported operand type(s) for +: 'int' and 'str'",
     "output_type": "error",
     "traceback": [
      "\u001b[0;31m---------------------------------------------------------------------------\u001b[0m",
      "\u001b[0;31mTypeError\u001b[0m                                 Traceback (most recent call last)",
      "\u001b[0;32m<ipython-input-24-65bb5b50b94a>\u001b[0m in \u001b[0;36m<module>\u001b[0;34m\u001b[0m\n\u001b[1;32m      2\u001b[0m \u001b[0msecond_bit\u001b[0m \u001b[0;34m=\u001b[0m \u001b[0;34m\"14\"\u001b[0m\u001b[0;34m\u001b[0m\u001b[0;34m\u001b[0m\u001b[0m\n\u001b[1;32m      3\u001b[0m \u001b[0;34m\u001b[0m\u001b[0m\n\u001b[0;32m----> 4\u001b[0;31m \u001b[0mfirst_bit\u001b[0m \u001b[0;34m+\u001b[0m \u001b[0msecond_bit\u001b[0m\u001b[0;34m\u001b[0m\u001b[0;34m\u001b[0m\u001b[0m\n\u001b[0m",
      "\u001b[0;31mTypeError\u001b[0m: unsupported operand type(s) for +: 'int' and 'str'"
     ]
    }
   ],
   "source": [
    "first_bit = 14\n",
    "second_bit = \"14\"\n",
    "\n",
    "first_bit + second_bit"
   ]
  },
  {
   "cell_type": "code",
   "execution_count": null,
   "metadata": {},
   "outputs": [],
   "source": [
    "# Answer to Question 1.2.3\n",
    "#vi kan ike ligger en telst og et tal sammen. string vs. integer"
   ]
  },
  {
   "cell_type": "markdown",
   "metadata": {},
   "source": [
    "**Question 1.2.4**\n",
    "\n",
    "We can also convert variable types to different variable types, as follows:\n",
    "\n",
    "To 'stringify' something, we can use str(VARIABLE). Below, I'll declare a variable which is an integer, then I'll use str(VARIABLE) to write the 'stringified' version to a new variable."
   ]
  },
  {
   "cell_type": "code",
   "execution_count": null,
   "metadata": {},
   "outputs": [],
   "source": [
    "my_integer_variable = 30\n",
    "my_stringified_variable = str(my_integer_variable)"
   ]
  },
  {
   "cell_type": "markdown",
   "metadata": {},
   "source": [
    "To 'integerify' something, we can use int(VARIABLE). Below, I'll declare a\n",
    "variable which is a number written out as a string, then I'll use\n",
    "int(VARIABLE) to write the 'integerified' version to a new variable."
   ]
  },
  {
   "cell_type": "code",
   "execution_count": null,
   "metadata": {},
   "outputs": [],
   "source": [
    "my_string_variable = \"30\"\n",
    "my_integerified_variable = int(my_string_variable)"
   ]
  },
  {
   "cell_type": "markdown",
   "metadata": {},
   "source": [
    "To 'floatify' an integer, we can use float(VARIABLE). Below, declare an\n",
    "integer variable, then use float(VARIABLE) to write the 'floatified'\n",
    "version to a new variable: "
   ]
  },
  {
   "cell_type": "code",
   "execution_count": 27,
   "metadata": {},
   "outputs": [
    {
     "data": {
      "text/plain": [
       "30.0"
      ]
     },
     "execution_count": 27,
     "metadata": {},
     "output_type": "execute_result"
    }
   ],
   "source": [
    "# Answer to Question 1.2.4\n",
    "my_integer_variable = 30\n",
    "float(30)"
   ]
  },
  {
   "cell_type": "markdown",
   "metadata": {},
   "source": [
    "**Question 1.2.5**: Division in Python has two ways of usage. What is the output of `5/2`?  What is the output of `5//2`? What is the fundamental data type for each of the two operations? Explain your results."
   ]
  },
  {
   "cell_type": "code",
   "execution_count": 28,
   "metadata": {},
   "outputs": [
    {
     "data": {
      "text/plain": [
       "2.5"
      ]
     },
     "execution_count": 28,
     "metadata": {},
     "output_type": "execute_result"
    }
   ],
   "source": [
    "# Answer to Question 1.2.5\n",
    "5/2"
   ]
  },
  {
   "cell_type": "code",
   "execution_count": 29,
   "metadata": {},
   "outputs": [
    {
     "data": {
      "text/plain": [
       "2"
      ]
     },
     "execution_count": 29,
     "metadata": {},
     "output_type": "execute_result"
    }
   ],
   "source": [
    "5//2"
   ]
  },
  {
   "cell_type": "code",
   "execution_count": null,
   "metadata": {},
   "outputs": [],
   "source": [
    "# / givet et float resultat og // giver et int resultat"
   ]
  },
  {
   "cell_type": "markdown",
   "metadata": {},
   "source": [
    "**Question 1.2.6**: What is the output of `5%2` and `5**2`? Explain your answers."
   ]
  },
  {
   "cell_type": "code",
   "execution_count": 30,
   "metadata": {},
   "outputs": [
    {
     "data": {
      "text/plain": [
       "1"
      ]
     },
     "execution_count": 30,
     "metadata": {},
     "output_type": "execute_result"
    }
   ],
   "source": [
    "# Answer to Question 1.2.6\n",
    "5%2\n",
    "Der er en i overskud hvis du vil dividere til et rent tal. 1 er resten."
   ]
  },
  {
   "cell_type": "code",
   "execution_count": 31,
   "metadata": {},
   "outputs": [
    {
     "data": {
      "text/plain": [
       "25"
      ]
     },
     "execution_count": 31,
     "metadata": {},
     "output_type": "execute_result"
    }
   ],
   "source": [
    "5**2\n",
    "vi opløfter til potens"
   ]
  },
  {
   "cell_type": "markdown",
   "metadata": {},
   "source": [
    "**Question 1.2.7**: Use expressions <, >, ==, != to compare 4 to 6 (e.g. run 4<6). What are the input data types? What are the output data types?"
   ]
  },
  {
   "cell_type": "code",
   "execution_count": 36,
   "metadata": {},
   "outputs": [
    {
     "data": {
      "text/plain": [
       "True"
      ]
     },
     "execution_count": 36,
     "metadata": {},
     "output_type": "execute_result"
    }
   ],
   "source": [
    "# Answer to Question 1.2.7\n",
    "#input er int og output er bools\n",
    "4<6"
   ]
  },
  {
   "cell_type": "code",
   "execution_count": 33,
   "metadata": {},
   "outputs": [
    {
     "data": {
      "text/plain": [
       "False"
      ]
     },
     "execution_count": 33,
     "metadata": {},
     "output_type": "execute_result"
    }
   ],
   "source": [
    "4>6"
   ]
  },
  {
   "cell_type": "code",
   "execution_count": 34,
   "metadata": {},
   "outputs": [
    {
     "data": {
      "text/plain": [
       "False"
      ]
     },
     "execution_count": 34,
     "metadata": {},
     "output_type": "execute_result"
    }
   ],
   "source": [
    "4==6"
   ]
  },
  {
   "cell_type": "code",
   "execution_count": 35,
   "metadata": {},
   "outputs": [
    {
     "data": {
      "text/plain": [
       "True"
      ]
     },
     "execution_count": 35,
     "metadata": {},
     "output_type": "execute_result"
    }
   ],
   "source": [
    "4!=6"
   ]
  },
  {
   "cell_type": "markdown",
   "metadata": {},
   "source": [
    "## 1.3 String Operations"
   ]
  },
  {
   "cell_type": "markdown",
   "metadata": {},
   "source": [
    "Strings have multiple operations and functions associated. In this exercise we investigate a few of these. \n",
    "\n",
    "**Question 1.3.1**: Create variables s1='Chameleon' and s2='ham'. Check whether the string s2 is a substring of s1. \n",
    "\n",
    "*Hint: One string operation is to check whether a string S contains a substring T, this can be done with the in \n",
    "operator: S in T.*"
   ]
  },
  {
   "cell_type": "code",
   "execution_count": 39,
   "metadata": {},
   "outputs": [
    {
     "data": {
      "text/plain": [
       "True"
      ]
     },
     "execution_count": 39,
     "metadata": {},
     "output_type": "execute_result"
    }
   ],
   "source": [
    "# Answer to Question 1.3.1 \n",
    "s1='Chameloeon'\n",
    "s2='ham'\n",
    "\n",
    "s2 in s1"
   ]
  },
  {
   "cell_type": "markdown",
   "metadata": {},
   "source": [
    "**Question 1.3.2**: Make a variable s3 that is the same as s1 but all upper case, then check again whether s2 is a substring of of s3. Explain your answer. \n",
    "\n",
    "*Hint: Remember that strings have methods like upper(), lower(), and capitalize()* "
   ]
  },
  {
   "cell_type": "code",
   "execution_count": 43,
   "metadata": {},
   "outputs": [
    {
     "data": {
      "text/plain": [
       "'CHAMELOEON'"
      ]
     },
     "execution_count": 43,
     "metadata": {},
     "output_type": "execute_result"
    }
   ],
   "source": [
    "# Answer to Question 1.3.2\n",
    "s3=s1\n",
    "s1.upper()"
   ]
  },
  {
   "cell_type": "markdown",
   "metadata": {},
   "source": [
    "## 1.4 Control logic (if statements)\n",
    "\n",
    "**Question 1.4.1**: Imagine that we have a car that can fit 5 passengers, and we want to know, if the car can fit more passengers. Using 'if' and 'else', make a piece of code that prints out \"The car is full\" if passengers (taken as input) is 5 or more, and \"The car is not full yet\" if passengers are less than 5.\n",
    "\n",
    "Note: Multiple conditions can be inserted with elif statement(s):"
   ]
  },
  {
   "cell_type": "code",
   "execution_count": 51,
   "metadata": {},
   "outputs": [
    {
     "name": "stdout",
     "output_type": "stream",
     "text": [
      "the car is not full\n"
     ]
    }
   ],
   "source": [
    "#Read how many passengers are in the car\n",
    "\n",
    "passengers = 3\n",
    "\n",
    "#Answer to Question 1.4.1\n",
    "if passengers >5:\n",
    "    print (\"the car is full\")\n",
    "    \n",
    "else: \n",
    "    print(\"the car is not full\")\n"
   ]
  },
  {
   "cell_type": "code",
   "execution_count": null,
   "metadata": {},
   "outputs": [],
   "source": [
    "\n"
   ]
  },
  {
   "cell_type": "markdown",
   "metadata": {},
   "source": [
    "**Question 1.4.2**: Create a program which produces statements about numbers that you give it, with the following conditions:\n",
    "- if the number is over 100 print \"Phew, that's a big number.\"\n",
    "- if the number is even, print \"This one is even.\"\n",
    "- if the number is even and over 100 print \"Stop. I can't even.\"\n",
    "- if the number doesn't satisfy any of these conditions, print the number."
   ]
  },
  {
   "cell_type": "code",
   "execution_count": 7,
   "metadata": {},
   "outputs": [],
   "source": [
    "#Answer to Question 1.4.2\n",
    "\n",
    "#Check the program with a few values to see if it gives the results you expect."
   ]
  },
  {
   "cell_type": "markdown",
   "metadata": {},
   "source": [
    "**Question 1.4.3**: Choose an everyday activity (like making tea). Write a script workflow for that activity."
   ]
  },
  {
   "cell_type": "markdown",
   "metadata": {},
   "source": [
    "*Answer to Question 1.4.3. here. \n",
    "Note that this cell is in Markdown mode rather than Code mode, so you can write your answer as text.* "
   ]
  },
  {
   "cell_type": "markdown",
   "metadata": {},
   "source": [
    "## 1.5 Reflection\n",
    "**Question 1.5.1**: Write a brief paragraph reflecting on your experience learning basic programming operations and logic structures. What did you struggle with? What did you enjoy? What surprised you?\n",
    "    *Note: We will ask you in the assignments to submit a summary of your reflections*"
   ]
  },
  {
   "cell_type": "markdown",
   "metadata": {},
   "source": [
    "*Answer to Question 1.5.1*"
   ]
  }
 ],
 "metadata": {
  "kernelspec": {
   "display_name": "Python 3",
   "language": "python",
   "name": "python3"
  },
  "language_info": {
   "codemirror_mode": {
    "name": "ipython",
    "version": 3
   },
   "file_extension": ".py",
   "mimetype": "text/x-python",
   "name": "python",
   "nbconvert_exporter": "python",
   "pygments_lexer": "ipython3",
   "version": "3.7.4"
  }
 },
 "nbformat": 4,
 "nbformat_minor": 2
}
