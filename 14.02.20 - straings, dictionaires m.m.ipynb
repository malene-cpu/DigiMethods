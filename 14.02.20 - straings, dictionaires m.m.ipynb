{
 "cells": [
  {
   "cell_type": "code",
   "execution_count": 1,
   "metadata": {},
   "outputs": [
    {
     "name": "stdout",
     "output_type": "stream",
     "text": [
      "[1, 2, 3, 4, 12]\n"
     ]
    }
   ],
   "source": [
    "my_list = [1,2,3,4]\n",
    "my_list.append(12)\n",
    "print(my_list)"
   ]
  },
  {
   "cell_type": "code",
   "execution_count": 2,
   "metadata": {},
   "outputs": [
    {
     "data": {
      "text/plain": [
       "2"
      ]
     },
     "execution_count": 2,
     "metadata": {},
     "output_type": "execute_result"
    }
   ],
   "source": [
    "my_list[1]"
   ]
  },
  {
   "cell_type": "code",
   "execution_count": 3,
   "metadata": {},
   "outputs": [
    {
     "data": {
      "text/plain": [
       "'of'"
      ]
     },
     "execution_count": 3,
     "metadata": {},
     "output_type": "execute_result"
    }
   ],
   "source": [
    "my_list = [\"this\", \"is,\", \"a\", \"list\", \"of\", \"strings\"]\n",
    "my_list[-2]"
   ]
  },
  {
   "cell_type": "code",
   "execution_count": 4,
   "metadata": {},
   "outputs": [],
   "source": [
    "my_list3 = []\n",
    "#this is an empty list"
   ]
  },
  {
   "cell_type": "code",
   "execution_count": 5,
   "metadata": {},
   "outputs": [
    {
     "data": {
      "text/plain": [
       "' '"
      ]
     },
     "execution_count": 5,
     "metadata": {},
     "output_type": "execute_result"
    }
   ],
   "source": [
    "#strings is texts. its a container for chracters.\n",
    "#space is a character.\n",
    "\n",
    "my_string = \"i'm a string\"\n",
    "my_string [3]"
   ]
  },
  {
   "cell_type": "code",
   "execution_count": 6,
   "metadata": {},
   "outputs": [
    {
     "data": {
      "text/plain": [
       "\"'m\""
      ]
     },
     "execution_count": 6,
     "metadata": {},
     "output_type": "execute_result"
    }
   ],
   "source": [
    "my_string[1:3]"
   ]
  },
  {
   "cell_type": "code",
   "execution_count": 7,
   "metadata": {},
   "outputs": [
    {
     "data": {
      "text/plain": [
       "['http...']"
      ]
     },
     "execution_count": 7,
     "metadata": {},
     "output_type": "execute_result"
    }
   ],
   "source": [
    "#how di we contrive differnt pieces of string?\n",
    "my_url = \"http...\"\n",
    "my_url.split(\"/\")"
   ]
  },
  {
   "cell_type": "code",
   "execution_count": 8,
   "metadata": {},
   "outputs": [
    {
     "ename": "SyntaxError",
     "evalue": "invalid syntax (<ipython-input-8-43a025cc19d4>, line 3)",
     "output_type": "error",
     "traceback": [
      "\u001b[0;36m  File \u001b[0;32m\"<ipython-input-8-43a025cc19d4>\"\u001b[0;36m, line \u001b[0;32m3\u001b[0m\n\u001b[0;31m    ('friedo', ' sociology', 1.2.7)\u001b[0m\n\u001b[0m                                 ^\u001b[0m\n\u001b[0;31mSyntaxError\u001b[0m\u001b[0;31m:\u001b[0m invalid syntax\n"
     ]
    }
   ],
   "source": [
    "#tuble. kind of like a list. but you cant change it like with lists\n",
    "my_tuble = ('samantha', 'Anthropology', '16.0.05'\n",
    "            'friedo', ' sociology', '1.2.7')\n",
    "            \n",
    "my_tuble(1,1)\n",
    "my_tuble(1:1)"
   ]
  },
  {
   "cell_type": "code",
   "execution_count": 12,
   "metadata": {},
   "outputs": [
    {
     "data": {
      "text/plain": [
       "'sociology'"
      ]
     },
     "execution_count": 12,
     "metadata": {},
     "output_type": "execute_result"
    }
   ],
   "source": [
    "#dictionaries\n",
    "my_dictionary = {'samantha':'Anthropology',\n",
    "                 'friedo':'sociology',\n",
    "                 'ulf':'physics'}\n",
    "\n",
    "my_dictionary['friedo']  "
   ]
  },
  {
   "cell_type": "code",
   "execution_count": 13,
   "metadata": {},
   "outputs": [
    {
     "name": "stdout",
     "output_type": "stream",
     "text": [
      "[('samantha', 103), ('friedo', 78), ('ulf', 85)]\n",
      "85\n"
     ]
    }
   ],
   "source": [
    "keys = ['samantha', 'friedo', 'ulf']\n",
    "ages = [103, 78, 85]\n",
    "key_values = list(zip(keys, ages))\n",
    "print(key_values)\n",
    "\n",
    "my_dictionary2 = dict(key_values)\n",
    "print (my_dictionary2['ulf'])"
   ]
  },
  {
   "cell_type": "code",
   "execution_count": 14,
   "metadata": {},
   "outputs": [
    {
     "name": "stdout",
     "output_type": "stream",
     "text": [
      "[0, 1, 2, 3, 4]\n",
      "[[0, 1, 2, 3, 4], [3, 4, 5, 6, 7, 8]]\n"
     ]
    }
   ],
   "source": [
    "A = list (range(5))\n",
    "print (A)\n",
    "B = list(range(3,9))\n",
    "C = [A,B]\n",
    "print(C)"
   ]
  },
  {
   "cell_type": "code",
   "execution_count": 15,
   "metadata": {},
   "outputs": [
    {
     "name": "stdout",
     "output_type": "stream",
     "text": [
      "{'key1': 'something else'}\n"
     ]
    }
   ],
   "source": [
    "adictionary = {\"key1\": \"something\",\n",
    "              \"key1\": \"something else\"}\n",
    "adictionary[\"key1\"]\n",
    "print(adictionary)"
   ]
  },
  {
   "cell_type": "code",
   "execution_count": 16,
   "metadata": {},
   "outputs": [],
   "source": [
    "#loops\n",
    "#for loops: when we want to do something a specific time\n",
    "\n",
    "#while loop\n",
    "\n"
   ]
  },
  {
   "cell_type": "code",
   "execution_count": 26,
   "metadata": {},
   "outputs": [
    {
     "name": "stdout",
     "output_type": "stream",
     "text": [
      "31.2\n"
     ]
    }
   ],
   "source": [
    "ages = [26, 21, 44, 28, 37]\n",
    "avg_age = 0\n",
    "\n",
    "# i means everyelement i nthis case\n",
    "for i in ages: \n",
    "    avg_age += i\n",
    "\n",
    "avg_age /= len(ages)\n",
    "\n",
    "print(avg_age)"
   ]
  },
  {
   "cell_type": "code",
   "execution_count": 20,
   "metadata": {},
   "outputs": [
    {
     "name": "stdout",
     "output_type": "stream",
     "text": [
      "-6\n"
     ]
    }
   ],
   "source": [
    "my_var = 0\n",
    "my_var = my_var - 2\n",
    "my_var *= 3\n",
    "#det er en måde at gange -2 med 3\n",
    "\n",
    "print(my_var)"
   ]
  },
  {
   "cell_type": "code",
   "execution_count": 21,
   "metadata": {},
   "outputs": [
    {
     "name": "stdout",
     "output_type": "stream",
     "text": [
      "1\n",
      "<class 'int'>\n"
     ]
    }
   ],
   "source": [
    "my_var2 = 5\n",
    "my_var2 += 3.8\n",
    "my_var2 = 1 # her overskriver vi my_var2\n",
    "\n",
    "print(my_var2)\n",
    "print(type(my_var2))"
   ]
  },
  {
   "cell_type": "code",
   "execution_count": 25,
   "metadata": {},
   "outputs": [
    {
     "data": {
      "text/plain": [
       "5"
      ]
     },
     "execution_count": 25,
     "metadata": {},
     "output_type": "execute_result"
    }
   ],
   "source": [
    "my_string = \"hello\"\n",
    "len(my_string) \n",
    "#length fortæller hvor mange karakterer der er"
   ]
  },
  {
   "cell_type": "code",
   "execution_count": null,
   "metadata": {},
   "outputs": [],
   "source": [
    "#function and methods\n",
    "my_string = \"hello\"\n",
    "len(my_string) #function. \n",
    "my_string.capatialize()#method\n",
    "#some methods does not cahange the original string/object. \n",
    "#returning vs. print. Example:\n",
    "#some methods do ncahange the original string. Example: \n",
    "#look it up:-)"
   ]
  },
  {
   "cell_type": "code",
   "execution_count": 29,
   "metadata": {},
   "outputs": [
    {
     "name": "stdout",
     "output_type": "stream",
     "text": [
      "31.2\n"
     ]
    }
   ],
   "source": [
    "count = 0\n",
    "avg_age = 0\n",
    "\n",
    "while count<len(ages):\n",
    "    avg_age += ages[count]\n",
    "    count += 1\n",
    "avg_age /= len(ages)\n",
    "print(avg_age)"
   ]
  },
  {
   "cell_type": "code",
   "execution_count": null,
   "metadata": {},
   "outputs": [],
   "source": [
    "ages2 = [4, 55, -3, 80]\n",
    "count = 0\n",
    "avg_age2 = 0\n",
    "while count<len(ages2):\n",
    "    if ages2[count] < 0: #alder under 0 skal ikke med. \n",
    "        print(\"An invalid ages was entered\")\n",
    "    else: \n",
    "        avg_age2 += ages2[count]\n",
    "    count += 1\n",
    "avg_age2 /= len(ages2)\n",
    "print(avg_age2)\n",
    "\n",
    "#f-statements?"
   ]
  },
  {
   "cell_type": "code",
   "execution_count": null,
   "metadata": {},
   "outputs": [],
   "source": []
  }
 ],
 "metadata": {
  "kernelspec": {
   "display_name": "Python 3",
   "language": "python",
   "name": "python3"
  },
  "language_info": {
   "codemirror_mode": {
    "name": "ipython",
    "version": 3
   },
   "file_extension": ".py",
   "mimetype": "text/x-python",
   "name": "python",
   "nbconvert_exporter": "python",
   "pygments_lexer": "ipython3",
   "version": "3.7.4"
  }
 },
 "nbformat": 4,
 "nbformat_minor": 2
}
